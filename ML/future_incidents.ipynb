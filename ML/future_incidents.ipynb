{
 "cells": [
  {
   "cell_type": "code",
   "execution_count": 1,
   "metadata": {},
   "outputs": [],
   "source": [
    "import requests\n",
    "import pandas as pd\n",
    "from datetime import datetime, timedelta"
   ]
  },
  {
   "cell_type": "code",
   "execution_count": 4,
   "metadata": {},
   "outputs": [
    {
     "name": "stdout",
     "output_type": "stream",
     "text": [
      "Forecast data saved to 'shanghai_forecast.xlsx'\n"
     ]
    }
   ],
   "source": [
    "\n",
    "\n",
    "# Define coordinates for the ports\n",
    "port_shanghai = {'lat': 31.2304, 'lon': 121.4737}\n",
    "port_rotterdam = {'lat': 51.9225, 'lon': 4.4792}\n",
    "\n",
    "\n",
    "\n",
    "\n",
    "# Function to get the date 5 months ago\n",
    "\n",
    "     \n",
    "# Define the time range for the next 30 days\n",
    "start_date = datetime.now()\n",
    "end_date = start_date + timedelta(days=1*10)  \n",
    "\n",
    "# Prepare to store the forecast data\n",
    "forecast_data = []\n",
    "\n",
    "# Format dates as YYYY-MM-DD strings\n",
    "start_date_str = start_date.strftime('%Y-%m-%d')\n",
    "end_date_str = end_date.strftime('%Y-%m-%d')\n",
    "# Define the Open-Meteo endpoint\n",
    "endpoint = 'https://api.open-meteo.com/v1/forecast'\n",
    "\n",
    "# Fetch forecast data for Shanghai\n",
    "params = {\n",
    "    'latitude': port_shanghai['lat'],\n",
    "    'longitude': port_shanghai['lon'],\n",
    "    'daily': ['temperature_2m_max', 'temperature_2m_min', 'precipitation_sum', 'windspeed_10m_max'],\n",
    "    'start_date': start_date_str,\n",
    "    'end_date': end_date_str,\n",
    "    'timezone': 'Asia/Shanghai'\n",
    "}\n",
    "\n",
    "response = requests.get(endpoint, params=params)\n",
    "data = response.json()\n",
    "\n",
    "# Process the forecast data\n",
    "for i in range(len(data['daily']['time'])):\n",
    "    # forecast_data.append({\n",
    "    #     'date': data['daily']['time'][i],\n",
    "    #     'temperature_max': data['daily']['temperature_2m_max'][i],\n",
    "    #     'temperature_min': data['daily']['temperature_2m_min'][i],\n",
    "    #     'precipitation': data['daily']['precipitation_sum'][i],\n",
    "    #     'wind_speed': data['daily']['windspeed_10m_max'][i],\n",
    "    #     'wave_height':  data['daily']['waveHeight'][i]\n",
    "    # })\n",
    "        # Define rules for severity levels based on weather conditions\n",
    "    temperature_max = data['daily']['temperature_2m_max'][i]\n",
    "    temperature_min = data['daily']['temperature_2m_min'][i]\n",
    "    precipitation_sum = data['daily']['precipitation_sum'][i]\n",
    "    wind_speed = data['daily']['windspeed_10m_max'][i]\n",
    "\n",
    "    # Example rules for determining severity\n",
    "    # Determine severity based on combined criteria\n",
    "    if (temperature_max > 35) or (precipitation_sum > 30) or (wind_speed > 15):\n",
    "        severity = 'Extreme'\n",
    "    elif (temperature_max > 30) or (precipitation_sum > 20) or (wind_speed > 10):\n",
    "        severity = 'High'\n",
    "    elif (temperature_max > 25) or (precipitation_sum > 10) or (wind_speed > 5):\n",
    "        severity = 'Medium'\n",
    "    else:\n",
    "        severity = 'Low'\n",
    "\n",
    "    forecast_data.append({\n",
    "        'date': data['daily']['time'][i],\n",
    "        'temperature_max': temperature_max,\n",
    "        'precipitation': precipitation_sum,\n",
    "        'wind_speed': wind_speed,\n",
    "        'severity': severity\n",
    "    })\n",
    "\n",
    "# Convert the data to a DataFrame\n",
    "forecast_df = pd.DataFrame(forecast_data)\n",
    "\n",
    "# Save the forecast data to an Excel file\n",
    "forecast_df.to_excel('shanghai_forecast.xlsx', index=False)\n",
    "\n",
    "print(\"Forecast data saved to 'shanghai_forecast.xlsx'\")\n"
   ]
  }
 ],
 "metadata": {
  "kernelspec": {
   "display_name": "Python 3",
   "language": "python",
   "name": "python3"
  },
  "language_info": {
   "codemirror_mode": {
    "name": "ipython",
    "version": 3
   },
   "file_extension": ".py",
   "mimetype": "text/x-python",
   "name": "python",
   "nbconvert_exporter": "python",
   "pygments_lexer": "ipython3",
   "version": "3.11.4"
  }
 },
 "nbformat": 4,
 "nbformat_minor": 2
}
